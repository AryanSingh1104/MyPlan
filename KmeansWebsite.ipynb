{
 "cells": [
  {
   "cell_type": "code",
   "execution_count": 1,
   "id": "4354f3db-db89-4242-8f88-09a516fc051b",
   "metadata": {},
   "outputs": [],
   "source": [
    "#import libraries\n",
    "import pandas as pd\n",
    "import numpy as np\n",
    "import random as rd\n",
    "import matplotlib.pyplot as plt"
   ]
  },
  {
   "cell_type": "code",
   "execution_count": 6,
   "id": "fcb0dc8b-3213-460e-8b06-c439b37f38bb",
   "metadata": {},
   "outputs": [
    {
     "data": {
      "text/html": [
       "<div>\n",
       "<style scoped>\n",
       "    .dataframe tbody tr th:only-of-type {\n",
       "        vertical-align: middle;\n",
       "    }\n",
       "\n",
       "    .dataframe tbody tr th {\n",
       "        vertical-align: top;\n",
       "    }\n",
       "\n",
       "    .dataframe thead th {\n",
       "        text-align: right;\n",
       "    }\n",
       "</style>\n",
       "<table border=\"1\" class=\"dataframe\">\n",
       "  <thead>\n",
       "    <tr style=\"text-align: right;\">\n",
       "      <th></th>\n",
       "      <th>Phone Number</th>\n",
       "      <th>Domain Name</th>\n",
       "      <th>Bytes Upload</th>\n",
       "      <th>Bytes Download</th>\n",
       "    </tr>\n",
       "  </thead>\n",
       "  <tbody>\n",
       "    <tr>\n",
       "      <th>0</th>\n",
       "      <td>987-7775</td>\n",
       "      <td>www.quora.com</td>\n",
       "      <td>27279.212307</td>\n",
       "      <td>42983.398196</td>\n",
       "    </tr>\n",
       "    <tr>\n",
       "      <th>1</th>\n",
       "      <td>987-7775</td>\n",
       "      <td>www.snapchat.com</td>\n",
       "      <td>28701.826983</td>\n",
       "      <td>38074.010180</td>\n",
       "    </tr>\n",
       "    <tr>\n",
       "      <th>2</th>\n",
       "      <td>987-7775</td>\n",
       "      <td>www.tiktok.com</td>\n",
       "      <td>59398.304729</td>\n",
       "      <td>64384.944793</td>\n",
       "    </tr>\n",
       "    <tr>\n",
       "      <th>3</th>\n",
       "      <td>987-7775</td>\n",
       "      <td>www.linkedin.com</td>\n",
       "      <td>30180.686382</td>\n",
       "      <td>30552.896278</td>\n",
       "    </tr>\n",
       "    <tr>\n",
       "      <th>4</th>\n",
       "      <td>987-7775</td>\n",
       "      <td>www.whatsapp.com</td>\n",
       "      <td>30443.362298</td>\n",
       "      <td>30787.390863</td>\n",
       "    </tr>\n",
       "  </tbody>\n",
       "</table>\n",
       "</div>"
      ],
      "text/plain": [
       "  Phone Number       Domain Name  Bytes Upload  Bytes Download\n",
       "0     987-7775     www.quora.com  27279.212307    42983.398196\n",
       "1     987-7775  www.snapchat.com  28701.826983    38074.010180\n",
       "2     987-7775    www.tiktok.com  59398.304729    64384.944793\n",
       "3     987-7775  www.linkedin.com  30180.686382    30552.896278\n",
       "4     987-7775  www.whatsapp.com  30443.362298    30787.390863"
      ]
     },
     "execution_count": 6,
     "metadata": {},
     "output_type": "execute_result"
    }
   ],
   "source": [
    "data = pd.read_csv(\"UDR_Assist1.csv\")\n",
    "data.head()"
   ]
  },
  {
   "cell_type": "code",
   "execution_count": 11,
   "id": "5e4bf896-b2b1-4b0b-83a2-9617da6fe12b",
   "metadata": {},
   "outputs": [
    {
     "data": {
      "image/png": "[encoded data removed]",
      "text/plain": [
       "<Figure size 432x288 with 1 Axes>"
      ]
     },
     "metadata": {
      "needs_background": "light"
     },
     "output_type": "display_data"
    }
   ],
   "source": [
    "X = data[[\"Bytes Upload\",\"Bytes Download\"]]\n",
    "#Visualise data points\n",
    "plt.scatter(X[\"Bytes Download\"],X[\"Bytes Upload\"],c='black')\n",
    "plt.xlabel('Bytes Download')\n",
    "plt.ylabel('Bytes Upload')\n",
    "K = 5\n",
    "Centroids = (X.sample(n=K))\n",
    "plt.scatter(Centroids[\"Bytes Download\"],Centroids[\"Bytes Upload\"],c='red')\n",
    "plt.show()"
   ]
  },
  {
   "cell_type": "code",
   "execution_count": 13,
   "id": "ae7d7fab-0bbd-4bd6-968f-896f5f3f1dca",
   "metadata": {},
   "outputs": [
    {
     "name": "stderr",
     "output_type": "stream",
     "text": [
      "/var/folders/5q/p6c2ncb9653352p3lj330mf00000gp/T/ipykernel_45131/2647020511.py:18: SettingWithCopyWarning: \n",
      "A value is trying to be set on a copy of a slice from a DataFrame.\n",
      "Try using .loc[row_indexer,col_indexer] = value instead\n",
      "\n",
      "See the caveats in the documentation: https://pandas.pydata.org/pandas-docs/stable/user_guide/indexing.html#returning-a-view-versus-a-copy\n",
      "  X[i]=ED\n"
     ]
    },
    {
     "name": "stdout",
     "output_type": "stream",
     "text": [
      "6955.0605913985955\n",
      "5919.7828171973415\n",
      "5966.891730962712\n",
      "6538.194143699524\n",
      "18037.91367234637\n",
      "19077.237981540733\n",
      "11429.631487360395\n",
      "6539.76294953471\n",
      "3504.8288867599003\n",
      "1571.8797054531776\n",
      "3637.6700094422795\n",
      "2172.296567617419\n",
      "1367.4699462984531\n",
      "415.7763378559739\n",
      "180.41739958261178\n",
      "137.3616655552837\n",
      "64.04930978783341\n",
      "0.0\n"
     ]
    }
   ],
   "source": [
    "\n",
    "# Step 3 - Assign all the points to the closest cluster centroid\n",
    "# Step 4 - Recompute centroids of newly formed clusters\n",
    "# Step 5 - Repeat step 3 and 4\n",
    "\n",
    "diff = 1\n",
    "j=0\n",
    "\n",
    "while(diff!=0):\n",
    "    XD=X\n",
    "    i=1\n",
    "    for index1,row_c in Centroids.iterrows():\n",
    "        ED=[]\n",
    "        for index2,row_d in XD.iterrows():\n",
    "            d1=(row_c[\"Bytes Download\"]-row_d[\"Bytes Download\"])**2\n",
    "            d2=(row_c[\"Bytes Upload\"]-row_d[\"Bytes Upload\"])**2\n",
    "            d=np.sqrt(d1+d2)\n",
    "            ED.append(d)\n",
    "        X[i]=ED\n",
    "        i=i+1\n",
    "\n",
    "    C=[]\n",
    "    for index,row in X.iterrows():\n",
    "        min_dist=row[1]\n",
    "        pos=1\n",
    "        for i in range(K):\n",
    "            if row[i+1] < min_dist:\n",
    "                min_dist = row[i+1]\n",
    "                pos=i+1\n",
    "        C.append(pos)\n",
    "    X[\"Cluster\"]=C\n",
    "    Centroids_new = X.groupby([\"Cluster\"]).mean()[[\"Bytes Upload\",\"Bytes Download\"]]\n",
    "    if j == 0:\n",
    "        diff=1\n",
    "        j=j+1\n",
    "    else:\n",
    "        diff = (Centroids_new['Bytes Upload'] - Centroids['Bytes Upload']).sum() + (Centroids_new['Bytes Download'] - Centroids['Bytes Download']).sum()\n",
    "        print(diff.sum())\n",
    "    Centroids = X.groupby([\"Cluster\"]).mean()[[\"Bytes Upload\",\"Bytes Download\"]]"
   ]
  },
  {
   "cell_type": "code",
   "execution_count": 14,
   "id": "f9d1d577-398a-4a14-9792-6c4c25e003b6",
   "metadata": {},
   "outputs": [
    {
     "data": {
      "image/png": "[encoded data removed]",
      "text/plain": [
       "<Figure size 432x288 with 1 Axes>"
      ]
     },
     "metadata": {
      "needs_background": "light"
     },
     "output_type": "display_data"
    }
   ],
   "source": [
    "color=['blue','green','cyan','pink','yellow']\n",
    "for k in range(K):\n",
    "    data=X[X[\"Cluster\"]==k+1]\n",
    "    plt.scatter(data[\"Bytes Upload\"],data[\"Bytes Download\"],c=color[k])\n",
    "    plt.scatter(Centroids[\"Bytes Upload\"],Centroids[\"Bytes Download\"],c='red')\n",
    "    "
   ]
  },
  {
   "cell_type": "code",
   "execution_count": null,
   "id": "57505967-6761-4bb6-be34-cd4c72eb15c1",
   "metadata": {},
   "outputs": [],
   "source": []
  }
 ],
 "metadata": {
  "kernelspec": {
   "display_name": "Python 3 (ipykernel)",
   "language": "python",
   "name": "python3"
  },
  "language_info": {
   "codemirror_mode": {
    "name": "ipython",
    "version": 3
   },
   "file_extension": ".py",
   "mimetype": "text/x-python",
   "name": "python",
   "nbconvert_exporter": "python",
   "pygments_lexer": "ipython3",
   "version": "3.10.5"
  }
 },
 "nbformat": 4,
 "nbformat_minor": 5
}
